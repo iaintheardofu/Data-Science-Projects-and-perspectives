{
  "nbformat": 4,
  "nbformat_minor": 0,
  "metadata": {
    "colab": {
      "provenance": [],
      "mount_file_id": "1KgVI01S3DIArW2fBAllEI9w6EMwHA3sP",
      "authorship_tag": "ABX9TyN/+PPEXE4Sa38OzOInwAlX",
      "include_colab_link": true
    },
    "kernelspec": {
      "name": "python3",
      "display_name": "Python 3"
    },
    "language_info": {
      "name": "python"
    }
  },
  "cells": [
    {
      "cell_type": "markdown",
      "metadata": {
        "id": "view-in-github",
        "colab_type": "text"
      },
      "source": [
        "<a href=\"https://colab.research.google.com/github/iaintheardofu/Data-Science-Projects-and-perspectives/blob/main/Frames.ipynb\" target=\"_parent\"><img src=\"https://colab.research.google.com/assets/colab-badge.svg\" alt=\"Open In Colab\"/></a>"
      ]
    },
    {
      "cell_type": "code",
      "execution_count": 1,
      "metadata": {
        "colab": {
          "base_uri": "https://localhost:8080/"
        },
        "id": "bQYEC6gW-6ox",
        "outputId": "dea93c83-96c8-4c15-9f38-e38bdf363216"
      },
      "outputs": [
        {
          "output_type": "stream",
          "name": "stdout",
          "text": [
            "Total frames extracted: 881\n",
            "First 5 frame paths: ['/content/extracted_frames/frame_00000000.jpg', '/content/extracted_frames/frame_00000001.jpg', '/content/extracted_frames/frame_00000002.jpg', '/content/extracted_frames/frame_00000003.jpg', '/content/extracted_frames/frame_00000004.jpg']\n"
          ]
        }
      ],
      "source": [
        "import os\n",
        "from moviepy.editor import VideoFileClip  # Using moviepy for video processing\n",
        "\n",
        "# Set the path to your video file here\n",
        "video_path = '/content/My Movie.mp4'\n",
        "video = VideoFileClip(video_path)\n",
        "\n",
        "# Adjusted frame extraction interval to 1 second for more frequent extraction\n",
        "frame_extraction_interval = 1  # seconds\n",
        "\n",
        "# Calculate the total number of frames to extract based on the new interval\n",
        "frames_to_extract = int(video.duration / frame_extraction_interval)\n",
        "\n",
        "# Define and prepare the output directory for extracted frames\n",
        "output_dir_simplified = '/content/extracted_frames'\n",
        "os.makedirs(output_dir_simplified, exist_ok=True)\n",
        "\n",
        "# Extract and save frames at the defined interval\n",
        "extracted_frames_info_simplified = []\n",
        "for i in range(frames_to_extract):\n",
        "    frame_path = os.path.join(output_dir_simplified, f\"frame_{i:08d}.jpg\")\n",
        "    video.save_frame(frame_path, t=i * frame_extraction_interval)  # Save frame at the specified interval\n",
        "    extracted_frames_info_simplified.append(frame_path)\n",
        "\n",
        "# Output the total number of frames extracted and paths of the first few frames\n",
        "total_frames = len(extracted_frames_info_simplified)\n",
        "print(f\"Total frames extracted: {total_frames}\")\n",
        "print(\"First 5 frame paths:\", extracted_frames_info_simplified[:5])"
      ]
    }
  ]
}